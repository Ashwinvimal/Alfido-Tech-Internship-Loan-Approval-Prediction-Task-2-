{
 "cells": [
  {
   "cell_type": "code",
   "execution_count": null,
   "id": "b34e2587",
   "metadata": {},
   "outputs": [],
   "source": [
    "# 1. Import Required Libraries\n",
    "import pandas as pd\n",
    "import numpy as np\n",
    "import matplotlib.pyplot as plt\n",
    "import seaborn as sns\n",
    "\n",
    "from sklearn.model_selection import train_test_split\n",
    "from sklearn.preprocessing import StandardScaler\n",
    "from sklearn.linear_model import LogisticRegression\n",
    "from sklearn.metrics import accuracy_score, confusion_matrix, classification_report"
   ]
  },
  {
   "cell_type": "code",
   "execution_count": null,
   "id": "26ab37b5",
   "metadata": {},
   "outputs": [],
   "source": [
    "# 2. Load Dataset\n",
    "df = pd.read_csv(\"loan_prediction.csv\")  # <-- update this if running locally\n",
    "df.head()"
   ]
  },
  {
   "cell_type": "code",
   "execution_count": null,
   "id": "0f5c5966",
   "metadata": {},
   "outputs": [],
   "source": [
    "# 3. Check for Missing Values\n",
    "print(df.isnull().sum())"
   ]
  },
  {
   "cell_type": "code",
   "execution_count": null,
   "id": "c0ba9628",
   "metadata": {},
   "outputs": [],
   "source": [
    "# 4. Fill Missing Values\n",
    "for col in ['Gender', 'Married', 'Dependents', 'Self_Employed', 'Credit_History', 'Loan_Amount_Term']:\n",
    "    df[col] = df[col].fillna(df[col].mode()[0])\n",
    "df['LoanAmount'] = df['LoanAmount'].fillna(df['LoanAmount'].median())"
   ]
  },
  {
   "cell_type": "code",
   "execution_count": null,
   "id": "d44b0765",
   "metadata": {},
   "outputs": [],
   "source": [
    "# 5. Encode Target Variable\n",
    "df['Loan_Status'] = df['Loan_Status'].map({'Y': 1, 'N': 0})"
   ]
  },
  {
   "cell_type": "code",
   "execution_count": null,
   "id": "345d977e",
   "metadata": {},
   "outputs": [],
   "source": [
    "# 6. One-Hot Encode Categorical Features\n",
    "categorical_columns = ['Gender', 'Married', 'Education', 'Self_Employed', 'Property_Area', 'Dependents']\n",
    "df_encoded = pd.get_dummies(df, columns=categorical_columns, drop_first=True)"
   ]
  },
  {
   "cell_type": "code",
   "execution_count": null,
   "id": "ba00ce3b",
   "metadata": {},
   "outputs": [],
   "source": [
    "# 7. Define Features and Target\n",
    "X = df_encoded.drop(['Loan_ID', 'Loan_Status'], axis=1)\n",
    "y = df_encoded['Loan_Status']"
   ]
  },
  {
   "cell_type": "code",
   "execution_count": null,
   "id": "a019926b",
   "metadata": {},
   "outputs": [],
   "source": [
    "# 8. Feature Scaling\n",
    "scaler = StandardScaler()\n",
    "X_scaled = scaler.fit_transform(X)"
   ]
  },
  {
   "cell_type": "code",
   "execution_count": null,
   "id": "17d8fbb6",
   "metadata": {},
   "outputs": [],
   "source": [
    "# 9. Train-Test Split\n",
    "X_train, X_test, y_train, y_test = train_test_split(X_scaled, y, test_size=0.2, random_state=42)"
   ]
  },
  {
   "cell_type": "code",
   "execution_count": null,
   "id": "b09bfd80",
   "metadata": {},
   "outputs": [],
   "source": [
    "# 10. Logistic Regression Model\n",
    "model = LogisticRegression(max_iter=1000)\n",
    "model.fit(X_train, y_train)"
   ]
  },
  {
   "cell_type": "code",
   "execution_count": null,
   "id": "e49f0726",
   "metadata": {},
   "outputs": [],
   "source": [
    "# 11. Predictions\n",
    "y_pred = model.predict(X_test)"
   ]
  },
  {
   "cell_type": "code",
   "execution_count": null,
   "id": "1786e7fb",
   "metadata": {},
   "outputs": [],
   "source": [
    "# 12. Evaluation\n",
    "print(\"✅ Accuracy:\", accuracy_score(y_test, y_pred))\n",
    "print(\"\\n📊 Confusion Matrix:\\n\", confusion_matrix(y_test, y_pred))\n",
    "print(\"\\n📄 Classification Report:\\n\", classification_report(y_test, y_pred))"
   ]
  }
 ],
 "metadata": {},
 "nbformat": 4,
 "nbformat_minor": 5
}
